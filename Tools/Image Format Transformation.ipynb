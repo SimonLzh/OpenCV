{
 "cells": [
  {
   "cell_type": "markdown",
   "source": [
    "# Convert images to jpg file using os, pillow and time packages."
   ],
   "metadata": {
    "collapsed": false
   }
  },
  {
   "cell_type": "code",
   "execution_count": 1,
   "outputs": [],
   "source": [
    "import os\n",
    "from PIL import Image, ImageOps\n",
    "import time"
   ],
   "metadata": {
    "collapsed": false
   }
  },
  {
   "cell_type": "code",
   "execution_count": 2,
   "outputs": [
    {
     "data": {
      "text/plain": "'/Users/simonleung/Desktop/svg/'"
     },
     "execution_count": 2,
     "metadata": {},
     "output_type": "execute_result"
    }
   ],
   "source": [
    "format = '.jpg' #Setting format to convert.\n",
    "folder_path = '/Users/simonleung/Desktop/svg/' #Input folder path.\n",
    "folder_path"
   ],
   "metadata": {
    "collapsed": false
   }
  },
  {
   "cell_type": "code",
   "execution_count": 3,
   "outputs": [
    {
     "name": "stdout",
     "output_type": "stream",
     "text": [
      "1\n"
     ]
    }
   ],
   "source": [
    "files = os.listdir(folder_path)\n",
    "\n",
    "counts = 0\n",
    "for file in files:\n",
    "    image_path= folder_path + file #Images path.\n",
    "    counts += 1\n",
    "print(counts)"
   ],
   "metadata": {
    "collapsed": false
   }
  },
  {
   "cell_type": "code",
   "execution_count": 6,
   "outputs": [
    {
     "name": "stdout",
     "output_type": "stream",
     "text": [
      "1 files will be converted soon.\n",
      "Start processing...\n"
     ]
    },
    {
     "ename": "UnidentifiedImageError",
     "evalue": "cannot identify image file '/Users/simonleung/Desktop/svg/carbon.svg'",
     "output_type": "error",
     "traceback": [
      "\u001B[0;31m---------------------------------------------------------------------------\u001B[0m",
      "\u001B[0;31mUnidentifiedImageError\u001B[0m                    Traceback (most recent call last)",
      "Cell \u001B[0;32mIn[6], line 12\u001B[0m\n\u001B[1;32m      9\u001B[0m \u001B[38;5;66;03m#time.sleep(5) #Hold on.\u001B[39;00m\n\u001B[1;32m     10\u001B[0m \u001B[38;5;28mprint\u001B[39m(\u001B[38;5;124m'\u001B[39m\u001B[38;5;124mStart processing...\u001B[39m\u001B[38;5;124m'\u001B[39m)\n\u001B[0;32m---> 12\u001B[0m img \u001B[38;5;241m=\u001B[39m \u001B[43mImage\u001B[49m\u001B[38;5;241;43m.\u001B[39;49m\u001B[43mopen\u001B[49m\u001B[43m(\u001B[49m\u001B[43mimage_path\u001B[49m\u001B[43m)\u001B[49m\n",
      "File \u001B[0;32m~/anaconda3/lib/python3.10/site-packages/PIL/Image.py:3283\u001B[0m, in \u001B[0;36mopen\u001B[0;34m(fp, mode, formats)\u001B[0m\n\u001B[1;32m   3281\u001B[0m     warnings\u001B[38;5;241m.\u001B[39mwarn(message)\n\u001B[1;32m   3282\u001B[0m msg \u001B[38;5;241m=\u001B[39m \u001B[38;5;124m\"\u001B[39m\u001B[38;5;124mcannot identify image file \u001B[39m\u001B[38;5;132;01m%r\u001B[39;00m\u001B[38;5;124m\"\u001B[39m \u001B[38;5;241m%\u001B[39m (filename \u001B[38;5;28;01mif\u001B[39;00m filename \u001B[38;5;28;01melse\u001B[39;00m fp)\n\u001B[0;32m-> 3283\u001B[0m \u001B[38;5;28;01mraise\u001B[39;00m UnidentifiedImageError(msg)\n",
      "\u001B[0;31mUnidentifiedImageError\u001B[0m: cannot identify image file '/Users/simonleung/Desktop/svg/carbon.svg'"
     ]
    }
   ],
   "source": [
    "files = os.listdir(folder_path)\n",
    "\n",
    "counts = 0\n",
    "for file in files:\n",
    "    image_path= folder_path + file #Images path.\n",
    "    counts += 1\n",
    "\n",
    "print(str(counts) + ' files will be converted soon.') #Show counts of total image files that ready to be converted.\n",
    "#time.sleep(5) #Hold on.\n",
    "print('Start processing...')\n"
   ],
   "metadata": {
    "collapsed": false
   }
  },
  {
   "cell_type": "code",
   "execution_count": 5,
   "outputs": [
    {
     "name": "stdout",
     "output_type": "stream",
     "text": [
      "cannot convert /Users/simonleung/Desktop/svg/carbon.svg\n"
     ]
    }
   ],
   "source": [
    "i = 0\n",
    "for file in files:\n",
    "    image_path= folder_path + file #Images path.\n",
    "    f, e = os.path.splitext(image_path) #Split file name and format, return to f and e, respectively.\n",
    "    i += 1 #Counting recycle.\n",
    "    outfile = f + format #Generate the output image file name.\n",
    "    if image_path != outfile:\n",
    "        try:\n",
    "            img = Image.open(image_path) #Read image file.\n",
    "            #img = ImageOps.exif_transpose(img) #Modify the position of original image.\n",
    "            img.save(outfile) # Output file\n",
    "            print(f + e + ' converted to ' + format + ' successfully. ' + '(' + str(i) + '/' + str(counts) + ')') #Show result.\n",
    "        except IOError:\n",
    "            print('cannot convert', image_path) #Show failure items."
   ],
   "metadata": {
    "collapsed": false
   }
  },
  {
   "cell_type": "markdown",
   "source": [
    "# Convert ARW image files to jpg file using rawpy and imageio packages."
   ],
   "metadata": {
    "collapsed": false
   }
  },
  {
   "cell_type": "code",
   "execution_count": null,
   "outputs": [],
   "source": [
    "import os\n",
    "import rawpy\n",
    "import imageio"
   ],
   "metadata": {
    "collapsed": false
   }
  },
  {
   "cell_type": "code",
   "execution_count": null,
   "outputs": [],
   "source": [
    "def convert_arw_to_jpg(arw_file, jpg_file):\n",
    "    with rawpy.imread(arw_file) as raw:\n",
    "        rgb = raw.postprocess()\n",
    "    imageio.imwrite(jpg_file, rgb)\n",
    "\n",
    "# Replace 'input.arw' with the path to your ARW file\n",
    "# Replace 'output.jpg' with the path where you want to save the JPEG file\n",
    "#convert_arw_to_jpg('input_arw', 'output_arw')"
   ],
   "metadata": {
    "collapsed": false
   }
  },
  {
   "cell_type": "code",
   "execution_count": null,
   "outputs": [],
   "source": [
    "folder = os.listdir('')\n",
    "output_folder = ''\n",
    "i = 0\n",
    "for file in folder:\n",
    "    f, e = os.path.splitext(file)\n",
    "    if e == '.ARW':\n",
    "        input_file = folder + file\n",
    "        output_file = output_folder + f + '.jpg'\n",
    "        convert_arw_to_jpg(input_file, output_file)\n",
    "        i += 1\n",
    "        print(i)\n",
    "\n",
    "print('Done.')"
   ],
   "metadata": {
    "collapsed": false
   }
  }
 ],
 "metadata": {
  "kernelspec": {
   "display_name": "Python 3",
   "language": "python",
   "name": "python3"
  },
  "language_info": {
   "codemirror_mode": {
    "name": "ipython",
    "version": 2
   },
   "file_extension": ".py",
   "mimetype": "text/x-python",
   "name": "python",
   "nbconvert_exporter": "python",
   "pygments_lexer": "ipython2",
   "version": "2.7.6"
  }
 },
 "nbformat": 4,
 "nbformat_minor": 0
}
