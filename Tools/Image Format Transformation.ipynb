{
 "cells": [
  {
   "cell_type": "markdown",
   "source": [
    "# Convert images to jpg file using os, pillow and time packages."
   ],
   "metadata": {
    "collapsed": false
   }
  },
  {
   "cell_type": "code",
   "execution_count": null,
   "outputs": [],
   "source": [
    "import os\n",
    "from PIL import Image, ImageOps\n",
    "import time"
   ],
   "metadata": {
    "collapsed": false
   }
  },
  {
   "cell_type": "code",
   "execution_count": null,
   "outputs": [],
   "source": [
    "format = '.jpg' #Setting format to convert.\n",
    "folder_path = '/Users/simonleung/Desktop/五一珠海_20230429_CANON-700D/' #Input folder path.\n",
    "folder_path"
   ],
   "metadata": {
    "collapsed": false
   }
  },
  {
   "cell_type": "code",
   "execution_count": null,
   "outputs": [],
   "source": [
    "files = os.listdir(folder_path)\n",
    "\n",
    "counts = 0\n",
    "for file in files:\n",
    "    image_path= folder_path + file #Images path.\n",
    "    counts += 1\n",
    "print(counts)"
   ],
   "metadata": {
    "collapsed": false
   }
  },
  {
   "cell_type": "code",
   "execution_count": null,
   "outputs": [],
   "source": [
    "files = os.listdir(folder_path)\n",
    "\n",
    "counts = 0\n",
    "for file in files:\n",
    "    image_path= folder_path + file #Images path.\n",
    "    counts += 1\n",
    "\n",
    "print(str(counts) + ' files will be converted soon.') #Show counts of total image files that ready to be converted.\n",
    "#time.sleep(5) #Hold on.\n",
    "print('Start processing...')\n"
   ],
   "metadata": {
    "collapsed": false
   }
  },
  {
   "cell_type": "code",
   "execution_count": null,
   "outputs": [],
   "source": [
    "i = 0\n",
    "for file in files:\n",
    "    image_path= folder_path + file #Images path.\n",
    "    f, e = os.path.splitext(image_path) #Split file name and format, return to f and e, respectively.\n",
    "    i += 1 #Counting recycle.\n",
    "    outfile = f + format #Generate the output image file name.\n",
    "    if image_path != outfile:\n",
    "        try:\n",
    "            img = Image.open(image_path) #Read image file.\n",
    "            #img = ImageOps.exif_transpose(img) #Modify the position of original image.\n",
    "            img.save(outfile) # Output file\n",
    "            print(f + e + ' converted to ' + format + ' successfully. ' + '(' + str(i) + '/' + str(counts) + ')') #Show result.\n",
    "        except IOError:\n",
    "            print('cannot convert', image_path) #Show failure items."
   ],
   "metadata": {
    "collapsed": false
   }
  },
  {
   "cell_type": "markdown",
   "source": [
    "# Convert ARW image files to jpg file using rawpy and imageio packages."
   ],
   "metadata": {
    "collapsed": false
   }
  },
  {
   "cell_type": "code",
   "execution_count": null,
   "outputs": [],
   "source": [
    "import os\n",
    "import rawpy\n",
    "import imageio"
   ],
   "metadata": {
    "collapsed": false
   }
  },
  {
   "cell_type": "code",
   "execution_count": null,
   "outputs": [],
   "source": [
    "def convert_arw_to_jpg(arw_file, jpg_file):\n",
    "    with rawpy.imread(arw_file) as raw:\n",
    "        rgb = raw.postprocess()\n",
    "    imageio.imwrite(jpg_file, rgb)\n",
    "\n",
    "# Replace 'input.arw' with the path to your ARW file\n",
    "# Replace 'output.jpg' with the path where you want to save the JPEG file\n",
    "#convert_arw_to_jpg('input_arw', 'output_arw')"
   ],
   "metadata": {
    "collapsed": false
   }
  },
  {
   "cell_type": "code",
   "execution_count": null,
   "outputs": [],
   "source": [
    "folder = os.listdir('')\n",
    "output_folder = ''\n",
    "i = 0\n",
    "for file in folder:\n",
    "    f, e = os.path.splitext(file)\n",
    "    if e == '.ARW':\n",
    "        input_file = folder + file\n",
    "        output_file = output_folder + f + '.jpg'\n",
    "        convert_arw_to_jpg(input_file, output_file)\n",
    "        i += 1\n",
    "        print(i)\n",
    "\n",
    "print('Done.')"
   ],
   "metadata": {
    "collapsed": false
   }
  }
 ],
 "metadata": {
  "kernelspec": {
   "display_name": "Python 3",
   "language": "python",
   "name": "python3"
  },
  "language_info": {
   "codemirror_mode": {
    "name": "ipython",
    "version": 2
   },
   "file_extension": ".py",
   "mimetype": "text/x-python",
   "name": "python",
   "nbconvert_exporter": "python",
   "pygments_lexer": "ipython2",
   "version": "2.7.6"
  }
 },
 "nbformat": 4,
 "nbformat_minor": 0
}
